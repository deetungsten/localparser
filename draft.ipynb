{
 "cells": [
  {
   "cell_type": "code",
   "execution_count": 17,
   "id": "2d3e92ed",
   "metadata": {},
   "outputs": [],
   "source": [
    "from langchain.document_loaders import UnstructuredFileLoader\n",
    "from langchain.text_splitter import RecursiveCharacterTextSplitter\n",
    "from pathlib import Path\n",
    "from langchain.embeddings.huggingface import HuggingFaceEmbeddings\n",
    "from langchain.vectorstores import Chroma\n",
    "from langchain.llms import OpenAI\n",
    "from langchain.chains.question_answering import load_qa_chain\n",
    "import os"
   ]
  },
  {
   "attachments": {},
   "cell_type": "markdown",
   "id": "5166d759",
   "metadata": {},
   "source": [
    "### Load your data"
   ]
  },
  {
   "cell_type": "code",
   "execution_count": 18,
   "id": "8e37b50a",
   "metadata": {},
   "outputs": [],
   "source": [
    "file_path = Path(\"sleep.epub\")\n",
    "loader = UnstructuredFileLoader(\"sleep.epub\")\n",
    "data = loader.load() "
   ]
  },
  {
   "attachments": {},
   "cell_type": "markdown",
   "id": "8af9b604",
   "metadata": {},
   "source": [
    "### Chunk your data up into smaller documents"
   ]
  },
  {
   "cell_type": "code",
   "execution_count": 19,
   "id": "fb3c6f02",
   "metadata": {},
   "outputs": [],
   "source": [
    "text_splitter = RecursiveCharacterTextSplitter(chunk_size=1000, chunk_overlap=200)\n",
    "texts = text_splitter.split_documents(data)"
   ]
  },
  {
   "cell_type": "code",
   "execution_count": 20,
   "id": "879873a4",
   "metadata": {},
   "outputs": [
    {
     "name": "stdout",
     "output_type": "stream",
     "text": [
      "Now you have 1722 documents\n"
     ]
    }
   ],
   "source": [
    "print (f'Now you have {len(texts)} documents')"
   ]
  },
  {
   "attachments": {},
   "cell_type": "markdown",
   "id": "838b2843",
   "metadata": {},
   "source": [
    "### Create embeddings of your documents to get ready for semantic search"
   ]
  },
  {
   "cell_type": "code",
   "execution_count": 21,
   "id": "4e0d1c6a",
   "metadata": {},
   "outputs": [],
   "source": [
    "embeddings = HuggingFaceEmbeddings(model_name=\"msmarco-roberta-base-v2\")"
   ]
  },
  {
   "cell_type": "code",
   "execution_count": 22,
   "id": "0deb2f6a",
   "metadata": {},
   "outputs": [],
   "source": [
    "db = Chroma.from_documents(texts, embeddings)"
   ]
  },
  {
   "attachments": {},
   "cell_type": "markdown",
   "id": "3c35dcd9",
   "metadata": {},
   "source": [
    "### Query those docs to get your answer back"
   ]
  },
  {
   "cell_type": "code",
   "execution_count": 23,
   "id": "f051337b",
   "metadata": {},
   "outputs": [],
   "source": [
    "base_path = os.environ.get('OPENAI_API_BASE', 'http://localhost:8000/v1')"
   ]
  },
  {
   "cell_type": "code",
   "execution_count": 24,
   "id": "6b9b1c03",
   "metadata": {},
   "outputs": [],
   "source": [
    "api_key = \"your_api_key\"\n",
    "api_base = \"http://localhost:8000/v1\"\n",
    "llm = OpenAI(openai_api_base=api_base, openai_api_key=api_key)\n",
    "chain = load_qa_chain(llm, chain_type=\"stuff\")"
   ]
  },
  {
   "cell_type": "code",
   "execution_count": 25,
   "id": "f67ea7c2",
   "metadata": {},
   "outputs": [],
   "source": [
    "query = \"My son is three months old. What would be a good sleep schedule for him? Show me an example.\"\n",
    "docs = db.similarity_search(query, include_metadata=True)\n",
    "results_1 = chain.run(input_documents=docs, question=query)"
   ]
  },
  {
   "cell_type": "code",
   "execution_count": 26,
   "id": "3dfd2b7d",
   "metadata": {},
   "outputs": [
    {
     "name": "stdout",
     "output_type": "stream",
     "text": [
      " A good sleep schedule for your 3-month-old may include the following routine:\n",
      "11 pm – Bedtime\n",
      "12 am – Awake (feeding, diaper change)\n",
      "1 am – Back to bed\n",
      "3 am – Awake (feeding, diaper change)\n",
      "4 am – Back to bed\n",
      "7 am – Wake up\n"
     ]
    }
   ],
   "source": [
    "print(results_1) "
   ]
  },
  {
   "cell_type": "code",
   "execution_count": 27,
   "id": "88ef91ac",
   "metadata": {},
   "outputs": [
    {
     "data": {
      "text/plain": [
       "[Document(page_content='HELPFUL HINT\\n\\nSome children appear to hate their bedroom in the afternoon and scream as you approach it. One mother solved this by doing all the pre-nap soothing in the living room and then quickly went into her child’s room.\\n\\nQ: How long should my child nap?\\n\\nA: Does your child appear well rested? You be the judge. All of us have good days and bad days, but if you notice a progression toward more fussiness, brattiness, or tantrums, your child may need longer naps.\\n\\nMonths 15 to 21\\n\\nNAP #1 (MIDMORNING NAP) BEGINS TO DISAPPEAR', metadata={'source': 'sleep.epub'}),\n",
       " Document(page_content='This lack of rigid scheduling is appropriate for children a few months old, who are biologically immature. However, as the child gets older, extreme inconsistency will produce unhealthy sleep habits. Be flexible, but also become sensitive to your child’s need to sleep. Remember, it’s your responsibility as a parent to provide structure for your child: she cannot do it on her own. That doesn’t mean imposing some arbitrary sleep regimen on her. It means being aware of the signals your child is sending about when she needs to sleep, and then acting on those signals in a firm but loving way to help her sleep better now and in the weeks, months, and years to come. Here’s an account from the mother of a 3-month-old infant who successfully accomplished the midmorning nap and helped her baby sleep better at night:', metadata={'source': 'sleep.epub'}),\n",
       " Document(page_content='Q: What’s wrong if I quickly check my baby when she first cries, and I give her a pacifier or roll her back over? She always immediately stops crying and returns to sleep.\\n\\nA: Checking on your baby like this when she should be napping may not interfere with naps or night sleep in some infants between 4 and 6 months. But please be careful, because eventually all babies learn to turn these brief visits into prolonged playtimes. This learning process may develop more slowly if it is the father who does the checking and provides minimal intervention.\\n\\nQ: My child had extreme fussiness/colic. Now she is about 5 months old. How do I get her on a 9:00 a.m. and 1:00 p.m. nap schedule?', metadata={'source': 'sleep.epub'}),\n",
       " Document(page_content='If your newborn does not fall asleep, continue trying to soothe. Do not let him cry or ignore him. A mother’s report of allowing her 4-week-old to cry is described on this page. Elsewhere, I advise letting infants cry in order to teach them self-soothing skills, but newly born infants are a different matter. You cannot spoil a newborn. You cannot teach a newborn a crying habit.\\n\\nBedtime Routines', metadata={'source': 'sleep.epub'})]"
      ]
     },
     "execution_count": 27,
     "metadata": {},
     "output_type": "execute_result"
    }
   ],
   "source": [
    "docs"
   ]
  }
 ],
 "metadata": {
  "kernelspec": {
   "display_name": "Python 3 (ipykernel)",
   "language": "python",
   "name": "python3"
  },
  "language_info": {
   "codemirror_mode": {
    "name": "ipython",
    "version": 3
   },
   "file_extension": ".py",
   "mimetype": "text/x-python",
   "name": "python",
   "nbconvert_exporter": "python",
   "pygments_lexer": "ipython3",
   "version": "3.10.9"
  }
 },
 "nbformat": 4,
 "nbformat_minor": 5
}
